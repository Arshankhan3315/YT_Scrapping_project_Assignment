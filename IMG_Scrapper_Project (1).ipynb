{
 "cells": [
  {
   "cell_type": "markdown",
   "id": "1b1b719f",
   "metadata": {},
   "source": [
    "# Toutube Scrapper Assignment Project"
   ]
  },
  {
   "cell_type": "markdown",
   "id": "99f7a0cf",
   "metadata": {},
   "source": [
    " ## Question 1 : Write a python program to extract the video URL of the first five videos."
   ]
  },
  {
   "cell_type": "markdown",
   "id": "dc93a1c8",
   "metadata": {},
   "source": [
    "## Answer:\n",
    "\n",
    "### Youtube is a dynamic website which is created with JavaScript . \n",
    "\n",
    "### Beautiful Soup will fail in scraping of given url.\n",
    "\n",
    "### Using Selenium to extract the data"
   ]
  },
  {
   "cell_type": "markdown",
   "id": "04b415fd",
   "metadata": {},
   "source": [
    "### Step 1: Import Selenium and dependencies in Headless mode"
   ]
  },
  {
   "cell_type": "raw",
   "id": "659d0d7a",
   "metadata": {},
   "source": [
    "Go to this given URL and solve the following questions\n",
    "URL: https://www.youtube.com/@PW-Foundation/videos"
   ]
  },
  {
   "cell_type": "code",
   "execution_count": 3,
   "id": "6a5bb9f2",
   "metadata": {},
   "outputs": [],
   "source": [
    "import logging\n",
    "logging.basicConfig(filename='ImageScrapping.log',level=logging.DEBUG,format= '%(asctime)s - %(name)s - %(levelname)s - %(message)s')"
   ]
  },
  {
   "cell_type": "code",
   "execution_count": 2,
   "id": "5ff618e3",
   "metadata": {},
   "outputs": [],
   "source": [
    "from selenium import webdriver\n",
    "from selenium.webdriver.common.by import By\n",
    "from selenium.webdriver.chrome.service import Service\n",
    "\n",
    "# Importing Selenium webdriver in headless mode\n",
    "user_agent = \"Mozilla/5.0 (Windows NT 10.0; Win64; x64) AppleWebKit/537.36 (KHTML, like Gecko) Chrome/85.0.4183.83 Safari/537.36\"\n",
    "\n",
    "options = webdriver.ChromeOptions()\n",
    "options.add_argument('--headless')\n",
    "options.add_argument(f'user-agent={user_agent}')\n",
    "options.add_argument(\"--window-size=1920,1080\")\n",
    "options.add_argument('--ignore-certificate-errors')\n",
    "options.add_argument('--allow-running-insecure-content')\n",
    "options.add_argument(\"--disable-extensions\")\n",
    "options.add_argument(\"--proxy-server='direct://'\")\n",
    "options.add_argument(\"--proxy-bypass-list=*\")\n",
    "options.add_argument(\"--start-maximized\")\n",
    "options.add_argument('--disable-gpu')\n",
    "options.add_argument('--disable-dev-shm-usage')\n",
    "options.add_argument('--no-sandbox')\n",
    "s = Service(executable_path='C:/Users/arsha\\chromedriver.exe')\n",
    "driver = webdriver.Chrome(service=s, options=options)"
   ]
  },
  {
   "cell_type": "code",
   "execution_count": 7,
   "id": "e3aedae4",
   "metadata": {},
   "outputs": [],
   "source": [
    "from selenium import webdriver"
   ]
  },
  {
   "cell_type": "markdown",
   "id": "d08e08d9",
   "metadata": {},
   "source": [
    "### Step 2: Defining a function to get top5 urls from the channel "
   ]
  },
  {
   "cell_type": "code",
   "execution_count": 4,
   "id": "00e5c6ea",
   "metadata": {},
   "outputs": [],
   "source": [
    "def get_top5_urls(url):\n",
    "    driver.get(url)\n",
    "    driver.execute_script(\"window.scrollTo(0, 200)\")\n",
    "    url_elems = driver.find_elements(By.XPATH,\"//a[@id='video-title-link']\")    \n",
    "    url_elms5 = url_elems[0:5]\n",
    "    top5url = []\n",
    "    for i in url_elms5:\n",
    "        top5url.append(i.get_attribute('href'))   \n",
    "    return top5url"
   ]
  },
  {
   "cell_type": "markdown",
   "id": "923635ab",
   "metadata": {},
   "source": [
    "### Step 3: Executing the function to get top5 URL's"
   ]
  },
  {
   "cell_type": "code",
   "execution_count": 5,
   "id": "3cd4afd1",
   "metadata": {},
   "outputs": [
    {
     "data": {
      "text/plain": [
       "['https://www.youtube.com/watch?v=a0mQ3z7KvM0',\n",
       " 'https://www.youtube.com/watch?v=mv_0OvDB6rg',\n",
       " 'https://www.youtube.com/watch?v=t2O7xroBwvk',\n",
       " 'https://www.youtube.com/watch?v=DDr1vzPtBzM',\n",
       " 'https://www.youtube.com/watch?v=auFHpTySzI0']"
      ]
     },
     "execution_count": 5,
     "metadata": {},
     "output_type": "execute_result"
    }
   ],
   "source": [
    "url = \"https://www.youtube.com/@PW-Foundation/videos\"\n",
    "top5url = get_top5_urls(url)\n",
    "top5url"
   ]
  },
  {
   "cell_type": "markdown",
   "id": "4b4404a3",
   "metadata": {},
   "source": [
    "## Question 2: Write a python program to extract the URL of the video thumbnails of the first five videos."
   ]
  },
  {
   "cell_type": "code",
   "execution_count": 6,
   "id": "4b0251dd",
   "metadata": {},
   "outputs": [],
   "source": [
    "import time\n",
    "def thumbnail_urls(url):\n",
    "    driver.get(url)\n",
    "    time.sleep(2)    \n",
    "    images = driver.find_elements(By.TAG_NAME,'img')\n",
    "    img_links = []\n",
    "    for i in images:    \n",
    "        link = i.get_attribute('src')\n",
    "        if str(link).find('i.ytimg.com')>0:\n",
    "            img_links.append(link)    \n",
    "    return img_links[0:5]"
   ]
  },
  {
   "cell_type": "code",
   "execution_count": 7,
   "id": "bbe0bcf9",
   "metadata": {},
   "outputs": [
    {
     "data": {
      "text/plain": [
       "['https://i.ytimg.com/vi/a0mQ3z7KvM0/hqdefault.jpg?sqp=-oaymwEcCNACELwBSFXyq4qpAw4IARUAAIhCGAFwAcABBg==&rs=AOn4CLDN8NA_HT81Z1GS6UrEUMyryqwT1A',\n",
       " 'https://i.ytimg.com/vi/mv_0OvDB6rg/hqdefault.jpg?sqp=-oaymwEcCNACELwBSFXyq4qpAw4IARUAAIhCGAFwAcABBg==&rs=AOn4CLDUBbnyX8879xRHbbGdZVeDcpKiOQ',\n",
       " 'https://i.ytimg.com/vi/t2O7xroBwvk/hqdefault.jpg?sqp=-oaymwEcCNACELwBSFXyq4qpAw4IARUAAIhCGAFwAcABBg==&rs=AOn4CLC3xzrZKTBC2RgUgy3CqmH7YSN41A',\n",
       " 'https://i.ytimg.com/vi/DDr1vzPtBzM/hqdefault.jpg?sqp=-oaymwEcCNACELwBSFXyq4qpAw4IARUAAIhCGAFwAcABBg==&rs=AOn4CLCJd7yivzLszmdLbS6QU9T2vjVd1Q',\n",
       " 'https://i.ytimg.com/vi/auFHpTySzI0/hqdefault.jpg?sqp=-oaymwEcCNACELwBSFXyq4qpAw4IARUAAIhCGAFwAcABBg==&rs=AOn4CLCIzr-JbH1bi22pbmyhN8uXp06CtA']"
      ]
     },
     "execution_count": 7,
     "metadata": {},
     "output_type": "execute_result"
    }
   ],
   "source": [
    "top5thumbnails = thumbnail_urls(url)\n",
    "top5thumbnails"
   ]
  },
  {
   "cell_type": "markdown",
   "id": "ac076a8a",
   "metadata": {},
   "source": [
    "## Question 3: Write a python program to extract the title of the first five videos."
   ]
  },
  {
   "cell_type": "markdown",
   "id": "e622dca9",
   "metadata": {},
   "source": [
    "## Answer :"
   ]
  },
  {
   "cell_type": "code",
   "execution_count": 8,
   "id": "96007d00",
   "metadata": {},
   "outputs": [],
   "source": [
    "def title_finder(url):\n",
    "    driver.get(url)\n",
    "    url_elems = driver.find_elements(By.XPATH,\"//a[@id='video-title-link']\")\n",
    "    url_elems5 = url_elems[0:5] \n",
    "    title_text = []\n",
    "    for i in url_elems5:\n",
    "        title_text.append(i.get_attribute('title'))\n",
    "    return(title_text)"
   ]
  },
  {
   "cell_type": "code",
   "execution_count": 9,
   "id": "0bc54f34",
   "metadata": {},
   "outputs": [
    {
     "data": {
      "text/plain": [
       "['The Biggest Mistake To Avoid in Maths 😨 || Must Watch 🚨 || Class 10th Boards',\n",
       " 'NATURAL VEGETATION in 1 Shot || FULL Chapter Coverage (THEORY+PYQs) || Class 9th SST',\n",
       " 'DESCRIPTIVE PARAGRAPH + DIARY ENTRY in 1 Shot |FULL Chapter Coverage (THEORY+PYQs) Class-9th English',\n",
       " 'SURFACE AREAS & VOLUMES in 1 Shot || FULL Chapter Coverage (Concepts+PYQs) || Class 9th Maths',\n",
       " 'REACH FOR THE TOP + WIND in 1 Shot || FULL Chapter Coverage (THEORY+PYQs) || Class 9th English']"
      ]
     },
     "execution_count": 9,
     "metadata": {},
     "output_type": "execute_result"
    }
   ],
   "source": [
    "top5titles = title_finder(url)\n",
    "top5titles"
   ]
  },
  {
   "cell_type": "markdown",
   "id": "4e52b2a3",
   "metadata": {},
   "source": [
    "## Question 4: Write a python program to extract the number of views of the first five videos."
   ]
  },
  {
   "cell_type": "markdown",
   "id": "e2360f0c",
   "metadata": {},
   "source": [
    "## Answer:"
   ]
  },
  {
   "cell_type": "code",
   "execution_count": 10,
   "id": "36bddec0",
   "metadata": {},
   "outputs": [],
   "source": [
    "def views_finder(url):\n",
    "    driver.get(url)\n",
    "    views_elements = driver.find_elements(By.XPATH,\"//span[@class='inline-metadata-item style-scope ytd-video-meta-block']\")\n",
    "    view_count = []\n",
    "    for i in views_elements:  \n",
    "        meta_string = i.text      \n",
    "        if meta_string.find('views')>0:      \n",
    "            view_count.append(meta_string)\n",
    "    return view_count[0:5] "
   ]
  },
  {
   "cell_type": "code",
   "execution_count": 11,
   "id": "a6dded87",
   "metadata": {},
   "outputs": [
    {
     "data": {
      "text/plain": [
       "['18K views', '2.5K views', '4.3K views', '12K views', '4.2K views']"
      ]
     },
     "execution_count": 11,
     "metadata": {},
     "output_type": "execute_result"
    }
   ],
   "source": [
    "top5views = views_finder(url)\n",
    "top5views"
   ]
  },
  {
   "cell_type": "markdown",
   "id": "f37db7ed",
   "metadata": {},
   "source": [
    "## Question 5: Write a python program to extract the time of posting of video for the first five videos."
   ]
  },
  {
   "cell_type": "code",
   "execution_count": 12,
   "id": "ed64d398",
   "metadata": {},
   "outputs": [],
   "source": [
    "import time\n",
    "def get_video_upload_time(url):\n",
    "    driver.get(url)\n",
    "    time.sleep(2)\n",
    "    views_elements = driver.find_elements(By.XPATH,\"//span[@class='inline-metadata-item style-scope ytd-video-meta-block']\")\n",
    "    time_relative = []\n",
    "    for i in views_elements:  \n",
    "        meta_string = i.text             \n",
    "        if meta_string.find('ago')>0:      \n",
    "            time_relative.append(meta_string)\n",
    "        \n",
    "    return time_relative[0:5]"
   ]
  },
  {
   "cell_type": "code",
   "execution_count": 13,
   "id": "b46f16e9",
   "metadata": {},
   "outputs": [
    {
     "data": {
      "text/plain": [
       "['2 hours ago', '4 hours ago', '2 days ago', '4 days ago', '4 days ago']"
      ]
     },
     "execution_count": 13,
     "metadata": {},
     "output_type": "execute_result"
    }
   ],
   "source": [
    "rel_time = get_video_upload_time(url)\n",
    "rel_time"
   ]
  },
  {
   "cell_type": "code",
   "execution_count": 14,
   "id": "b70eb45c",
   "metadata": {},
   "outputs": [],
   "source": [
    "## Creating function to get date from relative time\n",
    "from datetime import datetime\n",
    "import pandas as pd\n",
    "from dateutil.relativedelta import relativedelta\n",
    "def get_absolute_date(relative_time):\n",
    "    absolute_time = []\n",
    "    for i in relative_time:        \n",
    "        if i.find('hours')>0:\n",
    "            hours = int(i.split(\" \")[0])\n",
    "            tm_absolute = datetime.now() - pd.Timedelta(hours=hours)\n",
    "            dt_string = tm_absolute.strftime(\"%d %b %Y\")\n",
    "            absolute_time.append(dt_string)\n",
    "        elif i.find('day')>0:\n",
    "            days = int(i.split(\" \")[0])\n",
    "            tm_absolute = datetime.now() - pd.Timedelta(days=days)\n",
    "            dt_string = tm_absolute.strftime(\"%d %b %Y\")\n",
    "            absolute_time.append(dt_string)\n",
    "        elif i.find('week')>0:\n",
    "            weeks = int(i.split(\" \")[0])\n",
    "            tm_absolute = datetime.now() - pd.Timedelta(weeks=weeks)\n",
    "            dt_string = tm_absolute.strftime(\"%d %b %Y\")\n",
    "            absolute_time.append(dt_string)\n",
    "        elif i.find('month')>0:\n",
    "            months = int(i.split(\" \")[0])\n",
    "            tm_absolute = datetime.now() - relativedelta(months=months)\n",
    "            dt_string = tm_absolute.strftime(\"%d %b %Y\")\n",
    "            absolute_time.append(dt_string)\n",
    "        elif i.find('year')>0:\n",
    "            years = int(i.split(\" \")[0])\n",
    "            tm_absolute = datetime.now() - relativedelta(years=years)\n",
    "            dt_string = tm_absolute.strftime(\"%d %b %Y\")\n",
    "            absolute_time.append(dt_string)\n",
    "\n",
    "    return absolute_time"
   ]
  },
  {
   "cell_type": "code",
   "execution_count": 15,
   "id": "db7d5149",
   "metadata": {},
   "outputs": [
    {
     "data": {
      "text/plain": [
       "['29 Jan 2024', '29 Jan 2024', '27 Jan 2024', '25 Jan 2024', '25 Jan 2024']"
      ]
     },
     "execution_count": 15,
     "metadata": {},
     "output_type": "execute_result"
    }
   ],
   "source": [
    "abs_date = get_absolute_date(rel_time)\n",
    "abs_date"
   ]
  },
  {
   "cell_type": "markdown",
   "id": "9e11808a",
   "metadata": {},
   "source": [
    "# Saving Data into csv file"
   ]
  },
  {
   "cell_type": "code",
   "execution_count": 16,
   "id": "d0846ef4",
   "metadata": {},
   "outputs": [
    {
     "data": {
      "text/html": [
       "<div>\n",
       "<style scoped>\n",
       "    .dataframe tbody tr th:only-of-type {\n",
       "        vertical-align: middle;\n",
       "    }\n",
       "\n",
       "    .dataframe tbody tr th {\n",
       "        vertical-align: top;\n",
       "    }\n",
       "\n",
       "    .dataframe thead th {\n",
       "        text-align: right;\n",
       "    }\n",
       "</style>\n",
       "<table border=\"1\" class=\"dataframe\">\n",
       "  <thead>\n",
       "    <tr style=\"text-align: right;\">\n",
       "      <th></th>\n",
       "      <th>title</th>\n",
       "      <th>uploadDate</th>\n",
       "      <th>views</th>\n",
       "      <th>videoURL</th>\n",
       "      <th>thumbnailURL</th>\n",
       "    </tr>\n",
       "  </thead>\n",
       "  <tbody>\n",
       "    <tr>\n",
       "      <th>0</th>\n",
       "      <td>The Biggest Mistake To Avoid in Maths 😨 || Mus...</td>\n",
       "      <td>29 Jan 2024</td>\n",
       "      <td>18K views</td>\n",
       "      <td>https://www.youtube.com/watch?v=a0mQ3z7KvM0</td>\n",
       "      <td>https://i.ytimg.com/vi/a0mQ3z7KvM0/hqdefault.j...</td>\n",
       "    </tr>\n",
       "    <tr>\n",
       "      <th>1</th>\n",
       "      <td>NATURAL VEGETATION in 1 Shot || FULL Chapter C...</td>\n",
       "      <td>29 Jan 2024</td>\n",
       "      <td>2.5K views</td>\n",
       "      <td>https://www.youtube.com/watch?v=mv_0OvDB6rg</td>\n",
       "      <td>https://i.ytimg.com/vi/mv_0OvDB6rg/hqdefault.j...</td>\n",
       "    </tr>\n",
       "    <tr>\n",
       "      <th>2</th>\n",
       "      <td>DESCRIPTIVE PARAGRAPH + DIARY ENTRY in 1 Shot ...</td>\n",
       "      <td>27 Jan 2024</td>\n",
       "      <td>4.3K views</td>\n",
       "      <td>https://www.youtube.com/watch?v=t2O7xroBwvk</td>\n",
       "      <td>https://i.ytimg.com/vi/t2O7xroBwvk/hqdefault.j...</td>\n",
       "    </tr>\n",
       "    <tr>\n",
       "      <th>3</th>\n",
       "      <td>SURFACE AREAS &amp; VOLUMES in 1 Shot || FULL Chap...</td>\n",
       "      <td>25 Jan 2024</td>\n",
       "      <td>12K views</td>\n",
       "      <td>https://www.youtube.com/watch?v=DDr1vzPtBzM</td>\n",
       "      <td>https://i.ytimg.com/vi/DDr1vzPtBzM/hqdefault.j...</td>\n",
       "    </tr>\n",
       "    <tr>\n",
       "      <th>4</th>\n",
       "      <td>REACH FOR THE TOP + WIND in 1 Shot || FULL Cha...</td>\n",
       "      <td>25 Jan 2024</td>\n",
       "      <td>4.2K views</td>\n",
       "      <td>https://www.youtube.com/watch?v=auFHpTySzI0</td>\n",
       "      <td>https://i.ytimg.com/vi/auFHpTySzI0/hqdefault.j...</td>\n",
       "    </tr>\n",
       "  </tbody>\n",
       "</table>\n",
       "</div>"
      ],
      "text/plain": [
       "                                               title   uploadDate       views  \\\n",
       "0  The Biggest Mistake To Avoid in Maths 😨 || Mus...  29 Jan 2024   18K views   \n",
       "1  NATURAL VEGETATION in 1 Shot || FULL Chapter C...  29 Jan 2024  2.5K views   \n",
       "2  DESCRIPTIVE PARAGRAPH + DIARY ENTRY in 1 Shot ...  27 Jan 2024  4.3K views   \n",
       "3  SURFACE AREAS & VOLUMES in 1 Shot || FULL Chap...  25 Jan 2024   12K views   \n",
       "4  REACH FOR THE TOP + WIND in 1 Shot || FULL Cha...  25 Jan 2024  4.2K views   \n",
       "\n",
       "                                      videoURL  \\\n",
       "0  https://www.youtube.com/watch?v=a0mQ3z7KvM0   \n",
       "1  https://www.youtube.com/watch?v=mv_0OvDB6rg   \n",
       "2  https://www.youtube.com/watch?v=t2O7xroBwvk   \n",
       "3  https://www.youtube.com/watch?v=DDr1vzPtBzM   \n",
       "4  https://www.youtube.com/watch?v=auFHpTySzI0   \n",
       "\n",
       "                                        thumbnailURL  \n",
       "0  https://i.ytimg.com/vi/a0mQ3z7KvM0/hqdefault.j...  \n",
       "1  https://i.ytimg.com/vi/mv_0OvDB6rg/hqdefault.j...  \n",
       "2  https://i.ytimg.com/vi/t2O7xroBwvk/hqdefault.j...  \n",
       "3  https://i.ytimg.com/vi/DDr1vzPtBzM/hqdefault.j...  \n",
       "4  https://i.ytimg.com/vi/auFHpTySzI0/hqdefault.j...  "
      ]
     },
     "execution_count": 16,
     "metadata": {},
     "output_type": "execute_result"
    }
   ],
   "source": [
    "import pandas as pd\n",
    "df = pd.DataFrame({'title':top5titles,'uploadDate':abs_date,'views':top5views,'videoURL':top5url,'thumbnailURL':top5thumbnails})\n",
    "df"
   ]
  },
  {
   "cell_type": "code",
   "execution_count": 17,
   "id": "92df9623",
   "metadata": {},
   "outputs": [],
   "source": [
    "df.to_csv('YoutubeData.csv',index=False)"
   ]
  },
  {
   "cell_type": "markdown",
   "id": "9c248e68",
   "metadata": {},
   "source": [
    "# Singal selenium function do all above activities"
   ]
  },
  {
   "cell_type": "code",
   "execution_count": 18,
   "id": "ae88e5de",
   "metadata": {},
   "outputs": [],
   "source": [
    "import pandas as pd\n",
    "import time\n",
    "def get_yt_data(url):\n",
    "    driver.get(url)\n",
    "    time.sleep(2)\n",
    "    driver.execute_script(\"window.scrollTo(0, 200)\")    \n",
    "    \n",
    "    # First Get Titles and URL    \n",
    "    url_elems = driver.find_elements(By.XPATH,\"//a[@id='video-title-link']\")\n",
    "    url_elems5 = url_elems[0:5] \n",
    "    top5titles = []\n",
    "    top5urls = []\n",
    "    for i in url_elems5:\n",
    "        top5titles.append(i.get_attribute('title'))\n",
    "        top5urls.append(i.get_attribute('href'))\n",
    "\n",
    "    # Get Thumbnail URL's\n",
    "    images = driver.find_elements(By.TAG_NAME,'img')\n",
    "    img_links = []    \n",
    "    for i in images:    \n",
    "        link = i.get_attribute('src')\n",
    "        if str(link).find('i.ytimg.com')>0:\n",
    "            img_links.append(link)\n",
    "    top5thumbnails = img_links[0:5]\n",
    "\n",
    "    # Get Views and Relative time\n",
    "    views_elements = driver.find_elements(By.XPATH,\"//span[@class='inline-metadata-item style-scope ytd-video-meta-block']\")\n",
    "    view_count = []\n",
    "    rel_time = []\n",
    "    for i in views_elements:  \n",
    "        meta_string = i.text      \n",
    "        if meta_string.find('views')>0:      \n",
    "            view_count.append(meta_string)\n",
    "        elif meta_string.find('ago')>0:\n",
    "            rel_time.append(meta_string)\n",
    "    \n",
    "    top5views = view_count[0:5]\n",
    "    top5_reltime = rel_time[0:5]\n",
    "\n",
    "    # converting relative time to absolute dates with custom function get_absolute_date\n",
    "    try:\n",
    "        abs_date =get_absolute_date(top5_reltime)\n",
    "    except Exception as e:\n",
    "        print('Exception Occured and handled :',e)    \n",
    "    \n",
    "    # Creating a Final dictionary for converting to dataframe\n",
    "    yt_dict = {'title':top5titles,'uploadDate':abs_date,'views':top5views,'videoURL':top5urls,'thumbnailURL':top5thumbnails}\n",
    "\n",
    "    # Converting to dataframe\n",
    "    yt_df = pd.DataFrame(yt_dict)\n",
    "\n",
    "    return yt_df "
   ]
  },
  {
   "cell_type": "code",
   "execution_count": 19,
   "id": "c709a766",
   "metadata": {},
   "outputs": [
    {
     "data": {
      "text/html": [
       "<div>\n",
       "<style scoped>\n",
       "    .dataframe tbody tr th:only-of-type {\n",
       "        vertical-align: middle;\n",
       "    }\n",
       "\n",
       "    .dataframe tbody tr th {\n",
       "        vertical-align: top;\n",
       "    }\n",
       "\n",
       "    .dataframe thead th {\n",
       "        text-align: right;\n",
       "    }\n",
       "</style>\n",
       "<table border=\"1\" class=\"dataframe\">\n",
       "  <thead>\n",
       "    <tr style=\"text-align: right;\">\n",
       "      <th></th>\n",
       "      <th>title</th>\n",
       "      <th>uploadDate</th>\n",
       "      <th>views</th>\n",
       "      <th>videoURL</th>\n",
       "      <th>thumbnailURL</th>\n",
       "    </tr>\n",
       "  </thead>\n",
       "  <tbody>\n",
       "    <tr>\n",
       "      <th>0</th>\n",
       "      <td>The Biggest Mistake To Avoid in Maths 😨 || Mus...</td>\n",
       "      <td>29 Jan 2024</td>\n",
       "      <td>19K views</td>\n",
       "      <td>https://www.youtube.com/watch?v=a0mQ3z7KvM0</td>\n",
       "      <td>https://i.ytimg.com/vi/a0mQ3z7KvM0/hqdefault.j...</td>\n",
       "    </tr>\n",
       "    <tr>\n",
       "      <th>1</th>\n",
       "      <td>NATURAL VEGETATION in 1 Shot || FULL Chapter C...</td>\n",
       "      <td>29 Jan 2024</td>\n",
       "      <td>2.5K views</td>\n",
       "      <td>https://www.youtube.com/watch?v=mv_0OvDB6rg</td>\n",
       "      <td>https://i.ytimg.com/vi/mv_0OvDB6rg/hqdefault.j...</td>\n",
       "    </tr>\n",
       "    <tr>\n",
       "      <th>2</th>\n",
       "      <td>DESCRIPTIVE PARAGRAPH + DIARY ENTRY in 1 Shot ...</td>\n",
       "      <td>27 Jan 2024</td>\n",
       "      <td>4.3K views</td>\n",
       "      <td>https://www.youtube.com/watch?v=t2O7xroBwvk</td>\n",
       "      <td>https://i.ytimg.com/vi/t2O7xroBwvk/hqdefault.j...</td>\n",
       "    </tr>\n",
       "    <tr>\n",
       "      <th>3</th>\n",
       "      <td>SURFACE AREAS &amp; VOLUMES in 1 Shot || FULL Chap...</td>\n",
       "      <td>25 Jan 2024</td>\n",
       "      <td>12K views</td>\n",
       "      <td>https://www.youtube.com/watch?v=DDr1vzPtBzM</td>\n",
       "      <td>https://i.ytimg.com/vi/DDr1vzPtBzM/hqdefault.j...</td>\n",
       "    </tr>\n",
       "    <tr>\n",
       "      <th>4</th>\n",
       "      <td>REACH FOR THE TOP + WIND in 1 Shot || FULL Cha...</td>\n",
       "      <td>25 Jan 2024</td>\n",
       "      <td>4.2K views</td>\n",
       "      <td>https://www.youtube.com/watch?v=auFHpTySzI0</td>\n",
       "      <td>https://i.ytimg.com/vi/auFHpTySzI0/hqdefault.j...</td>\n",
       "    </tr>\n",
       "  </tbody>\n",
       "</table>\n",
       "</div>"
      ],
      "text/plain": [
       "                                               title   uploadDate       views  \\\n",
       "0  The Biggest Mistake To Avoid in Maths 😨 || Mus...  29 Jan 2024   19K views   \n",
       "1  NATURAL VEGETATION in 1 Shot || FULL Chapter C...  29 Jan 2024  2.5K views   \n",
       "2  DESCRIPTIVE PARAGRAPH + DIARY ENTRY in 1 Shot ...  27 Jan 2024  4.3K views   \n",
       "3  SURFACE AREAS & VOLUMES in 1 Shot || FULL Chap...  25 Jan 2024   12K views   \n",
       "4  REACH FOR THE TOP + WIND in 1 Shot || FULL Cha...  25 Jan 2024  4.2K views   \n",
       "\n",
       "                                      videoURL  \\\n",
       "0  https://www.youtube.com/watch?v=a0mQ3z7KvM0   \n",
       "1  https://www.youtube.com/watch?v=mv_0OvDB6rg   \n",
       "2  https://www.youtube.com/watch?v=t2O7xroBwvk   \n",
       "3  https://www.youtube.com/watch?v=DDr1vzPtBzM   \n",
       "4  https://www.youtube.com/watch?v=auFHpTySzI0   \n",
       "\n",
       "                                        thumbnailURL  \n",
       "0  https://i.ytimg.com/vi/a0mQ3z7KvM0/hqdefault.j...  \n",
       "1  https://i.ytimg.com/vi/mv_0OvDB6rg/hqdefault.j...  \n",
       "2  https://i.ytimg.com/vi/t2O7xroBwvk/hqdefault.j...  \n",
       "3  https://i.ytimg.com/vi/DDr1vzPtBzM/hqdefault.j...  \n",
       "4  https://i.ytimg.com/vi/auFHpTySzI0/hqdefault.j...  "
      ]
     },
     "execution_count": 19,
     "metadata": {},
     "output_type": "execute_result"
    }
   ],
   "source": [
    "url = \"https://www.youtube.com/@PW-Foundation/videos\"\n",
    "PW_df = get_yt_data(url)\n",
    "PW_df"
   ]
  },
  {
   "cell_type": "markdown",
   "id": "d59e45d1",
   "metadata": {},
   "source": [
    "# Timing The Funcation"
   ]
  },
  {
   "cell_type": "code",
   "execution_count": 20,
   "id": "7174c85e",
   "metadata": {},
   "outputs": [
    {
     "name": "stdout",
     "output_type": "stream",
     "text": [
      "4.53 s ± 316 ms per loop (mean ± std. dev. of 20 runs, 1 loop each)\n"
     ]
    }
   ],
   "source": [
    "%%timeit -r 20 -n 1\n",
    "url = \"https://www.youtube.com/@PW-Foundation/videos\"\n",
    "PW_df = get_yt_data(url)"
   ]
  },
  {
   "cell_type": "markdown",
   "id": "38c8e9c7",
   "metadata": {},
   "source": [
    "# Assignment Completed"
   ]
  }
 ],
 "metadata": {
  "kernelspec": {
   "display_name": "Python 3 (ipykernel)",
   "language": "python",
   "name": "python3"
  },
  "language_info": {
   "codemirror_mode": {
    "name": "ipython",
    "version": 3
   },
   "file_extension": ".py",
   "mimetype": "text/x-python",
   "name": "python",
   "nbconvert_exporter": "python",
   "pygments_lexer": "ipython3",
   "version": "3.11.5"
  }
 },
 "nbformat": 4,
 "nbformat_minor": 5
}
